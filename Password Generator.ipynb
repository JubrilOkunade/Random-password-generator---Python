{
 "cells": [
  {
   "cell_type": "markdown",
   "id": "7fb2ec1e",
   "metadata": {},
   "source": [
    "# Introduction\n",
    "\n",
    "This is password generator to help generate complex passwords for users that struggle with creating strong passwords."
   ]
  },
  {
   "cell_type": "code",
   "execution_count": 1,
   "id": "4f743482",
   "metadata": {},
   "outputs": [
    {
     "name": "stdout",
     "output_type": "stream",
     "text": [
      "Welcome to passowrd generator created by Jubril\n"
     ]
    }
   ],
   "source": [
    "# Create a greeting for the generator.\n",
    "print('Welcome to passowrd generator created by Jubril')"
   ]
  },
  {
   "cell_type": "code",
   "execution_count": 2,
   "id": "57a62d1e",
   "metadata": {},
   "outputs": [],
   "source": [
    "# Create lists of numbers, letters and symbols.\n",
    "letters = ['a', 'b', 'c', 'd', 'e', 'f', 'g', 'h', 'i', 'j', 'k', 'l', 'm', 'n', 'o', 'p', 'q', 'r', 's', 't', 'u', 'v', 'w', 'x', 'y', 'z', 'A', 'B', 'C', 'D', 'E', 'F', 'G', 'H', 'I', 'J', 'K', 'L', 'M', 'N', 'O', 'P', 'Q', 'R', 'S', 'T', 'U', 'V', 'W', 'X', 'Y', 'Z']\n",
    "numbers = ['0', '1', '2', '3', '4', '5', '6', '7', '8', '9']\n",
    "symbols = ['!', '#', '$', '%', '&', '(', ')', '*', '+']"
   ]
  },
  {
   "cell_type": "code",
   "execution_count": 3,
   "id": "03ad1436",
   "metadata": {},
   "outputs": [],
   "source": [
    "# import the random module\n",
    "import random"
   ]
  },
  {
   "cell_type": "markdown",
   "id": "69bbb06c",
   "metadata": {},
   "source": [
    "## Create random password with ordered sequence of letters,symbols,numbers"
   ]
  },
  {
   "cell_type": "code",
   "execution_count": 8,
   "id": "3e55ba1a",
   "metadata": {},
   "outputs": [
    {
     "name": "stdout",
     "output_type": "stream",
     "text": [
      "How  many letters do you want in your password?\n",
      "12\n",
      "How  many symbols do you want in your password?\n",
      "5\n",
      "How  many numbers do you want in your password?\n",
      "7\n",
      "Here is your password: LyIFfKKZpWDr%+*!$4782048\n"
     ]
    }
   ],
   "source": [
    "# Ask how many letters the user wants in the password.\n",
    "letter_p =input('How  many letters do you want in your password?\\n')\n",
    "\n",
    "# Ask how many symbols the user wants in the password.\n",
    "sym_p =input('How  many symbols do you want in your password?\\n')\n",
    "\n",
    "# Ask how many numbers the user wants in the password.\n",
    "num_p =input('How  many numbers do you want in your password?\\n')\n",
    "\n",
    "# convert to integers.\n",
    "letter_int =int(letter_p)\n",
    "sym_int =int(sym_p)\n",
    "num_int =int(num_p)\n",
    "\n",
    "# create a loop for letters in password.\n",
    "ran_let =''\n",
    "for i in range(0,letter_int):\n",
    "    i=random.choice(letters)\n",
    "    ran_let+=i\n",
    "    \n",
    "# create a loop for symbols in password.\n",
    "ran_sym =''\n",
    "for j in range(0,sym_int):\n",
    "    j=random.choice(symbols)\n",
    "    ran_sym+=j\n",
    "\n",
    "# create a loop for symbols in password.\n",
    "ran_num =''\n",
    "for k in range(0,num_int):\n",
    "    k=random.choice(numbers)\n",
    "    ran_num+=k\n",
    "    \n",
    "# combine all elements to make random password   \n",
    "rand_pswd =ran_let+ran_sym+ran_num\n",
    "\n",
    "# display new random password to user.\n",
    "print(f'Here is your password: {rand_pswd}')"
   ]
  },
  {
   "cell_type": "markdown",
   "id": "3c488e7b",
   "metadata": {},
   "source": [
    "## Create random password with no order or sequence"
   ]
  },
  {
   "cell_type": "code",
   "execution_count": 9,
   "id": "1136ccbb",
   "metadata": {},
   "outputs": [
    {
     "name": "stdout",
     "output_type": "stream",
     "text": [
      "How  many letters do you want in your password?\n",
      "13\n",
      "How  many symbols do you want in your password?\n",
      "6\n",
      "How  many numbers do you want in your password?\n",
      "7\n",
      "Here is your password: 2Mh12p%(F1Z2b2101F1z)#OpZM\n"
     ]
    }
   ],
   "source": [
    "# Ask how many letters the user wants in the password.\n",
    "letter_p =input('How  many letters do you want in your password?\\n')\n",
    "\n",
    "# Ask how many symbols the user wants in the password.\n",
    "sym_p =input('How  many symbols do you want in your password?\\n')\n",
    "\n",
    "# Ask how many numbers the user wants in the password.\n",
    "num_p =input('How  many numbers do you want in your password?\\n')\n",
    "\n",
    "# convert to integers.\n",
    "letter_int =int(letter_p)\n",
    "sym_int =int(sym_p)\n",
    "num_int =int(num_p)\n",
    "\n",
    "# find the total number of characters.\n",
    "tot_num =letter_int+sym_int+num_int\n",
    "\n",
    "# create a loop for letters in password.\n",
    "ran_let =''\n",
    "for i in range(0,letter_int):\n",
    "    i=random.choice(letters)\n",
    "    ran_let+=i\n",
    "    \n",
    "# create a loop for symbols in password.\n",
    "ran_sym =''\n",
    "for j in range(0,sym_int):\n",
    "    j=random.choice(symbols)\n",
    "    ran_sym+=j\n",
    "\n",
    "# create a loop for symbols in password.\n",
    "ran_num =''\n",
    "for k in range(0,num_int):\n",
    "    k=random.choice(numbers)\n",
    "    ran_num+=k\n",
    "    \n",
    "# combine all elements to make random password- ordered sequence   \n",
    "rand_pswd =ran_let+ran_sym+ran_num    \n",
    "    \n",
    "# combine all elements to make random password- unordered sequence  \n",
    "very_rand_pswd=''\n",
    "for h in range(0,tot_num):\n",
    "    h=random.choice(rand_pswd)\n",
    "    very_rand_pswd+=h\n",
    "\n",
    "# display new random password to user.\n",
    "print(f'Here is your password: {very_rand_pswd}')"
   ]
  }
 ],
 "metadata": {
  "kernelspec": {
   "display_name": "Python 3 (ipykernel)",
   "language": "python",
   "name": "python3"
  },
  "language_info": {
   "codemirror_mode": {
    "name": "ipython",
    "version": 3
   },
   "file_extension": ".py",
   "mimetype": "text/x-python",
   "name": "python",
   "nbconvert_exporter": "python",
   "pygments_lexer": "ipython3",
   "version": "3.9.7"
  }
 },
 "nbformat": 4,
 "nbformat_minor": 5
}
